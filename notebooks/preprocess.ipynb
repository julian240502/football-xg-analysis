{
 "cells": [
  {
   "cell_type": "code",
   "execution_count": null,
   "id": "d730f54a",
   "metadata": {},
   "outputs": [
    {
     "name": "stdout",
     "output_type": "stream",
     "text": [
      "554 shots extracted and saved to 'data/shots_cleaned.csv'\n"
     ]
    },
    {
     "name": "stderr",
     "output_type": "stream",
     "text": [
      "C:\\Users\\akues\\AppData\\Local\\Temp\\ipykernel_18452\\2108865650.py:4: DtypeWarning: Columns (2,3,13,17,19,41,47,69,96,97,99,100,101,102,104,105,106,107,108,110,111,112,113,114,116,117,118) have mixed types. Specify dtype option on import or set low_memory=False.\n",
      "  df = pd.read_csv(\"data/psg_ligue1_2015_2016_events.csv\")\n",
      "C:\\Users\\akues\\AppData\\Local\\Temp\\ipykernel_18452\\2108865650.py:27: FutureWarning: Downcasting object dtype arrays on .fillna, .ffill, .bfill is deprecated and will change in a future version. Call result.infer_objects(copy=False) instead. To opt-in to the future behavior, set `pd.set_option('future.no_silent_downcasting', True)`\n",
      "  shots_df[\"under_pressure\"] = shots_df[\"under_pressure\"].fillna(False).astype(int)\n",
      "C:\\Users\\akues\\AppData\\Local\\Temp\\ipykernel_18452\\2108865650.py:28: FutureWarning: Downcasting object dtype arrays on .fillna, .ffill, .bfill is deprecated and will change in a future version. Call result.infer_objects(copy=False) instead. To opt-in to the future behavior, set `pd.set_option('future.no_silent_downcasting', True)`\n",
      "  shots_df[\"shot_first_time\"] = shots_df[\"shot_first_time\"].fillna(False).astype(int)\n"
     ]
    }
   ],
   "source": [
    "import pandas as pd\n",
    "\n",
    "df = pd.read_csv(\"data/psg_ligue1_2015_2016_events.csv\")\n",
    "\n",
    "shots_df = df[df[\"type\"] == \"Shot\"].copy()\n",
    "shots_df[\"goal\"] = shots_df[\"shot_outcome\"].apply(lambda x: 1 if x == \"Goal\" else 0)\n",
    "\n",
    "features = [\n",
    "    \"x\", \"y\",\n",
    "    \"shot_body_part\",\n",
    "    \"shot_technique\",\n",
    "    \"under_pressure\",\n",
    "    \"shot_first_time\",\n",
    "    \"goal\",  # target\n",
    "    \"shot_statsbomb_xg\",  # for benchmark\n",
    "    \"team\", \"player\", \"minute\", \"second\"\n",
    "]\n",
    "\n",
    "shots_df = shots_df[features]\n",
    "\n",
    "# Cleaning and convert types of missing values\n",
    "shots_df[\"under_pressure\"] = shots_df[\"under_pressure\"].fillna(False).astype(int)\n",
    "shots_df[\"shot_first_time\"] = shots_df[\"shot_first_time\"].fillna(False).astype(int)\n",
    "\n",
    "shots_df.to_csv(\"data/shots_cleaned.csv\", index=False)\n",
    "\n",
    "print(f\"{len(shots_df)} shots extracted and saved to 'data/shots_cleaned.csv'\")\n"
   ]
  },
  {
   "cell_type": "code",
   "execution_count": null,
   "id": "518d15da",
   "metadata": {},
   "outputs": [
    {
     "name": "stderr",
     "output_type": "stream",
     "text": [
      "c:\\Users\\akues\\OneDrive\\Documents\\GitHub\\football-xg-analysis\\venv\\Lib\\site-packages\\statsbombpy\\api_client.py:21: NoAuthWarning: credentials were not supplied. open data access only\n",
      "  warnings.warn(\n",
      "  0%|          | 0/37 [00:00<?, ?it/s]c:\\Users\\akues\\OneDrive\\Documents\\GitHub\\football-xg-analysis\\venv\\Lib\\site-packages\\statsbombpy\\api_client.py:21: NoAuthWarning: credentials were not supplied. open data access only\n",
      "  warnings.warn(\n",
      "  3%|▎         | 1/37 [00:00<00:28,  1.27it/s]c:\\Users\\akues\\OneDrive\\Documents\\GitHub\\football-xg-analysis\\venv\\Lib\\site-packages\\statsbombpy\\api_client.py:21: NoAuthWarning: credentials were not supplied. open data access only\n",
      "  warnings.warn(\n",
      "  5%|▌         | 2/37 [00:01<00:20,  1.69it/s]c:\\Users\\akues\\OneDrive\\Documents\\GitHub\\football-xg-analysis\\venv\\Lib\\site-packages\\statsbombpy\\api_client.py:21: NoAuthWarning: credentials were not supplied. open data access only\n",
      "  warnings.warn(\n",
      "  8%|▊         | 3/37 [00:01<00:22,  1.55it/s]c:\\Users\\akues\\OneDrive\\Documents\\GitHub\\football-xg-analysis\\venv\\Lib\\site-packages\\statsbombpy\\api_client.py:21: NoAuthWarning: credentials were not supplied. open data access only\n",
      "  warnings.warn(\n",
      " 11%|█         | 4/37 [00:02<00:22,  1.48it/s]c:\\Users\\akues\\OneDrive\\Documents\\GitHub\\football-xg-analysis\\venv\\Lib\\site-packages\\statsbombpy\\api_client.py:21: NoAuthWarning: credentials were not supplied. open data access only\n",
      "  warnings.warn(\n",
      " 14%|█▎        | 5/37 [00:03<00:18,  1.71it/s]c:\\Users\\akues\\OneDrive\\Documents\\GitHub\\football-xg-analysis\\venv\\Lib\\site-packages\\statsbombpy\\api_client.py:21: NoAuthWarning: credentials were not supplied. open data access only\n",
      "  warnings.warn(\n",
      " 16%|█▌        | 6/37 [00:03<00:19,  1.60it/s]c:\\Users\\akues\\OneDrive\\Documents\\GitHub\\football-xg-analysis\\venv\\Lib\\site-packages\\statsbombpy\\api_client.py:21: NoAuthWarning: credentials were not supplied. open data access only\n",
      "  warnings.warn(\n",
      " 19%|█▉        | 7/37 [00:04<00:16,  1.82it/s]c:\\Users\\akues\\OneDrive\\Documents\\GitHub\\football-xg-analysis\\venv\\Lib\\site-packages\\statsbombpy\\api_client.py:21: NoAuthWarning: credentials were not supplied. open data access only\n",
      "  warnings.warn(\n",
      " 22%|██▏       | 8/37 [00:05<00:18,  1.58it/s]c:\\Users\\akues\\OneDrive\\Documents\\GitHub\\football-xg-analysis\\venv\\Lib\\site-packages\\statsbombpy\\api_client.py:21: NoAuthWarning: credentials were not supplied. open data access only\n",
      "  warnings.warn(\n",
      " 24%|██▍       | 9/37 [00:05<00:15,  1.78it/s]c:\\Users\\akues\\OneDrive\\Documents\\GitHub\\football-xg-analysis\\venv\\Lib\\site-packages\\statsbombpy\\api_client.py:21: NoAuthWarning: credentials were not supplied. open data access only\n",
      "  warnings.warn(\n",
      " 27%|██▋       | 10/37 [00:06<00:16,  1.61it/s]c:\\Users\\akues\\OneDrive\\Documents\\GitHub\\football-xg-analysis\\venv\\Lib\\site-packages\\statsbombpy\\api_client.py:21: NoAuthWarning: credentials were not supplied. open data access only\n",
      "  warnings.warn(\n",
      " 30%|██▉       | 11/37 [00:06<00:16,  1.55it/s]c:\\Users\\akues\\OneDrive\\Documents\\GitHub\\football-xg-analysis\\venv\\Lib\\site-packages\\statsbombpy\\api_client.py:21: NoAuthWarning: credentials were not supplied. open data access only\n",
      "  warnings.warn(\n",
      " 32%|███▏      | 12/37 [00:07<00:13,  1.80it/s]c:\\Users\\akues\\OneDrive\\Documents\\GitHub\\football-xg-analysis\\venv\\Lib\\site-packages\\statsbombpy\\api_client.py:21: NoAuthWarning: credentials were not supplied. open data access only\n",
      "  warnings.warn(\n",
      " 35%|███▌      | 13/37 [00:07<00:14,  1.64it/s]c:\\Users\\akues\\OneDrive\\Documents\\GitHub\\football-xg-analysis\\venv\\Lib\\site-packages\\statsbombpy\\api_client.py:21: NoAuthWarning: credentials were not supplied. open data access only\n",
      "  warnings.warn(\n",
      " 38%|███▊      | 14/37 [00:08<00:12,  1.77it/s]c:\\Users\\akues\\OneDrive\\Documents\\GitHub\\football-xg-analysis\\venv\\Lib\\site-packages\\statsbombpy\\api_client.py:21: NoAuthWarning: credentials were not supplied. open data access only\n",
      "  warnings.warn(\n",
      " 41%|████      | 15/37 [00:09<00:13,  1.62it/s]c:\\Users\\akues\\OneDrive\\Documents\\GitHub\\football-xg-analysis\\venv\\Lib\\site-packages\\statsbombpy\\api_client.py:21: NoAuthWarning: credentials were not supplied. open data access only\n",
      "  warnings.warn(\n",
      " 43%|████▎     | 16/37 [00:09<00:11,  1.78it/s]c:\\Users\\akues\\OneDrive\\Documents\\GitHub\\football-xg-analysis\\venv\\Lib\\site-packages\\statsbombpy\\api_client.py:21: NoAuthWarning: credentials were not supplied. open data access only\n",
      "  warnings.warn(\n",
      " 46%|████▌     | 17/37 [00:10<00:12,  1.64it/s]c:\\Users\\akues\\OneDrive\\Documents\\GitHub\\football-xg-analysis\\venv\\Lib\\site-packages\\statsbombpy\\api_client.py:21: NoAuthWarning: credentials were not supplied. open data access only\n",
      "  warnings.warn(\n",
      " 49%|████▊     | 18/37 [00:11<00:12,  1.54it/s]c:\\Users\\akues\\OneDrive\\Documents\\GitHub\\football-xg-analysis\\venv\\Lib\\site-packages\\statsbombpy\\api_client.py:21: NoAuthWarning: credentials were not supplied. open data access only\n",
      "  warnings.warn(\n",
      " 51%|█████▏    | 19/37 [00:11<00:10,  1.74it/s]c:\\Users\\akues\\OneDrive\\Documents\\GitHub\\football-xg-analysis\\venv\\Lib\\site-packages\\statsbombpy\\api_client.py:21: NoAuthWarning: credentials were not supplied. open data access only\n",
      "  warnings.warn(\n",
      " 54%|█████▍    | 20/37 [00:12<00:10,  1.62it/s]c:\\Users\\akues\\OneDrive\\Documents\\GitHub\\football-xg-analysis\\venv\\Lib\\site-packages\\statsbombpy\\api_client.py:21: NoAuthWarning: credentials were not supplied. open data access only\n",
      "  warnings.warn(\n",
      " 57%|█████▋    | 21/37 [00:12<00:08,  1.81it/s]c:\\Users\\akues\\OneDrive\\Documents\\GitHub\\football-xg-analysis\\venv\\Lib\\site-packages\\statsbombpy\\api_client.py:21: NoAuthWarning: credentials were not supplied. open data access only\n",
      "  warnings.warn(\n",
      " 59%|█████▉    | 22/37 [00:13<00:09,  1.66it/s]c:\\Users\\akues\\OneDrive\\Documents\\GitHub\\football-xg-analysis\\venv\\Lib\\site-packages\\statsbombpy\\api_client.py:21: NoAuthWarning: credentials were not supplied. open data access only\n",
      "  warnings.warn(\n",
      " 62%|██████▏   | 23/37 [00:13<00:07,  1.86it/s]c:\\Users\\akues\\OneDrive\\Documents\\GitHub\\football-xg-analysis\\venv\\Lib\\site-packages\\statsbombpy\\api_client.py:21: NoAuthWarning: credentials were not supplied. open data access only\n",
      "  warnings.warn(\n",
      " 65%|██████▍   | 24/37 [00:14<00:07,  1.66it/s]c:\\Users\\akues\\OneDrive\\Documents\\GitHub\\football-xg-analysis\\venv\\Lib\\site-packages\\statsbombpy\\api_client.py:21: NoAuthWarning: credentials were not supplied. open data access only\n",
      "  warnings.warn(\n",
      " 68%|██████▊   | 25/37 [00:14<00:06,  1.83it/s]c:\\Users\\akues\\OneDrive\\Documents\\GitHub\\football-xg-analysis\\venv\\Lib\\site-packages\\statsbombpy\\api_client.py:21: NoAuthWarning: credentials were not supplied. open data access only\n",
      "  warnings.warn(\n",
      " 70%|███████   | 26/37 [00:15<00:06,  1.66it/s]c:\\Users\\akues\\OneDrive\\Documents\\GitHub\\football-xg-analysis\\venv\\Lib\\site-packages\\statsbombpy\\api_client.py:21: NoAuthWarning: credentials were not supplied. open data access only\n",
      "  warnings.warn(\n",
      " 73%|███████▎  | 27/37 [00:15<00:05,  1.82it/s]c:\\Users\\akues\\OneDrive\\Documents\\GitHub\\football-xg-analysis\\venv\\Lib\\site-packages\\statsbombpy\\api_client.py:21: NoAuthWarning: credentials were not supplied. open data access only\n",
      "  warnings.warn(\n",
      " 76%|███████▌  | 28/37 [00:16<00:05,  1.63it/s]c:\\Users\\akues\\OneDrive\\Documents\\GitHub\\football-xg-analysis\\venv\\Lib\\site-packages\\statsbombpy\\api_client.py:21: NoAuthWarning: credentials were not supplied. open data access only\n",
      "  warnings.warn(\n",
      " 78%|███████▊  | 29/37 [00:17<00:04,  1.94it/s]c:\\Users\\akues\\OneDrive\\Documents\\GitHub\\football-xg-analysis\\venv\\Lib\\site-packages\\statsbombpy\\api_client.py:21: NoAuthWarning: credentials were not supplied. open data access only\n",
      "  warnings.warn(\n",
      " 81%|████████  | 30/37 [00:17<00:03,  2.11it/s]c:\\Users\\akues\\OneDrive\\Documents\\GitHub\\football-xg-analysis\\venv\\Lib\\site-packages\\statsbombpy\\api_client.py:21: NoAuthWarning: credentials were not supplied. open data access only\n",
      "  warnings.warn(\n",
      " 84%|████████▍ | 31/37 [00:18<00:03,  1.86it/s]c:\\Users\\akues\\OneDrive\\Documents\\GitHub\\football-xg-analysis\\venv\\Lib\\site-packages\\statsbombpy\\api_client.py:21: NoAuthWarning: credentials were not supplied. open data access only\n",
      "  warnings.warn(\n",
      " 86%|████████▋ | 32/37 [00:18<00:02,  2.04it/s]c:\\Users\\akues\\OneDrive\\Documents\\GitHub\\football-xg-analysis\\venv\\Lib\\site-packages\\statsbombpy\\api_client.py:21: NoAuthWarning: credentials were not supplied. open data access only\n",
      "  warnings.warn(\n",
      " 89%|████████▉ | 33/37 [00:19<00:02,  1.72it/s]c:\\Users\\akues\\OneDrive\\Documents\\GitHub\\football-xg-analysis\\venv\\Lib\\site-packages\\statsbombpy\\api_client.py:21: NoAuthWarning: credentials were not supplied. open data access only\n",
      "  warnings.warn(\n",
      " 92%|█████████▏| 34/37 [00:19<00:01,  1.90it/s]c:\\Users\\akues\\OneDrive\\Documents\\GitHub\\football-xg-analysis\\venv\\Lib\\site-packages\\statsbombpy\\api_client.py:21: NoAuthWarning: credentials were not supplied. open data access only\n",
      "  warnings.warn(\n",
      " 95%|█████████▍| 35/37 [00:20<00:01,  1.68it/s]c:\\Users\\akues\\OneDrive\\Documents\\GitHub\\football-xg-analysis\\venv\\Lib\\site-packages\\statsbombpy\\api_client.py:21: NoAuthWarning: credentials were not supplied. open data access only\n",
      "  warnings.warn(\n",
      " 97%|█████████▋| 36/37 [00:20<00:00,  1.84it/s]c:\\Users\\akues\\OneDrive\\Documents\\GitHub\\football-xg-analysis\\venv\\Lib\\site-packages\\statsbombpy\\api_client.py:21: NoAuthWarning: credentials were not supplied. open data access only\n",
      "  warnings.warn(\n",
      "100%|██████████| 37/37 [00:21<00:00,  1.71it/s]\n"
     ]
    },
    {
     "name": "stdout",
     "output_type": "stream",
     "text": [
      "✅ 93416 événements PSG extraits avec succès.\n"
     ]
    }
   ],
   "source": [
    "from statsbombpy import sb\n",
    "import pandas as pd\n",
    "from tqdm import tqdm\n",
    "\n",
    "competition_id = 7   # Ligue 1\n",
    "season_id = 27       # 2015/2016\n",
    "\n",
    "# Load all 2015/2016 Ligue 1 matches\n",
    "matches = sb.matches(competition_id=competition_id, season_id=season_id)\n",
    "\n",
    "# Filtrer on PSG matches\n",
    "psg_matches = matches[\n",
    "    (matches[\"home_team\"].str.contains(\"Paris\", case=False, na=False)) |\n",
    "    (matches[\"away_team\"].str.contains(\"Paris\", case=False, na=False))\n",
    "]\n",
    "\n",
    "# Extract events for PSG matches\n",
    "all_psg_events = []\n",
    "\n",
    "for match_id in tqdm(psg_matches[\"match_id\"]):\n",
    "    try:\n",
    "        events = sb.events(match_id=match_id)\n",
    "        psg_events = events[events[\"team\"].str.contains(\"Paris\", case=False, na=False)].copy()\n",
    "        psg_events[\"match_id\"] = match_id\n",
    "\n",
    "        if \"location\" in psg_events.columns:\n",
    "            psg_events[[\"x\", \"y\"]] = psg_events[\"location\"].apply(pd.Series)\n",
    "\n",
    "        if \"pass_end_location\" in psg_events.columns:\n",
    "            psg_events[[\"pass_end_x\", \"pass_end_y\"]] = psg_events[\"pass_end_location\"].apply(pd.Series)\n",
    "\n",
    "        if \"carry_end_location\" in psg_events.columns:\n",
    "            psg_events[[\"carry_end_x\", \"carry_end_y\"]] = psg_events[\"carry_end_location\"].apply(pd.Series)\n",
    "\n",
    "        all_psg_events.append(psg_events)\n",
    "\n",
    "    except Exception as e:\n",
    "        print(f\"Erreur sur le match {match_id} : {e}\")\n",
    "        continue\n",
    "\n",
    "if all_psg_events:\n",
    "    df_psg_all = pd.concat(all_psg_events).reset_index(drop=True)\n",
    "    df_psg_all.to_csv(\"psg_ligue1_2015_2016_events.csv\", index=False)\n",
    "    print(f\" {len(df_psg_all)} événements PSG extraits avec succès.\")\n",
    "else:\n",
    "    print(\" Aucun événement PSG trouvé.\")\n"
   ]
  },
  {
   "cell_type": "markdown",
   "id": "0000bc74",
   "metadata": {},
   "source": [
    "### Add of new feature useful for the model training\n"
   ]
  },
  {
   "cell_type": "code",
   "execution_count": null,
   "id": "041daf73",
   "metadata": {},
   "outputs": [
    {
     "name": "stdout",
     "output_type": "stream",
     "text": [
      "✅ Fichier enrichi sauvegardé dans 'psg_shots_enriched.csv'\n"
     ]
    }
   ],
   "source": [
    "import pandas as pd\n",
    "import numpy as np\n",
    "\n",
    "df = pd.read_csv(\"data/PSG_Marseille_shots_cleaned.csv\")\n",
    "\n",
    "# (center = [120, 40])\n",
    "df[\"distance_to_goal\"] = np.sqrt((120 - df[\"x\"])**2 + (40 - df[\"y\"])**2)\n",
    "\n",
    "# Angle to goal (between the posts)\n",
    "def calculate_angle(x, y):\n",
    "    goal_width = 7.32  # largeur du but en mètres\n",
    "    a = goal_width / 2\n",
    "    dx = 120 - x\n",
    "    dy = np.abs(y - 40)\n",
    "    return np.arctan2(a, dx) - np.arctan2(-a, dx)\n",
    "\n",
    "df[\"angle_to_goal\"] = df.apply(lambda row: calculate_angle(row[\"x\"], row[\"y\"]), axis=1)\n",
    "\n",
    "# area of the shot\n",
    "df[\"is_central_zone\"] = df[\"y\"].between(30, 50).astype(int)\n",
    "df[\"is_left_side\"] = (df[\"y\"] < 40).astype(int)\n",
    "df[\"is_right_side\"] = (df[\"y\"] > 40).astype(int)\n",
    "\n",
    "df.to_csv(\"data/psg_marseille_shots_enriched.csv\", index=False)\n",
    "print(\"Fichier enrichi sauvegardé dans 'psg_shots_enriched.csv'\")\n"
   ]
  }
 ],
 "metadata": {
  "kernelspec": {
   "display_name": "venv (3.12.7)",
   "language": "python",
   "name": "python3"
  },
  "language_info": {
   "codemirror_mode": {
    "name": "ipython",
    "version": 3
   },
   "file_extension": ".py",
   "mimetype": "text/x-python",
   "name": "python",
   "nbconvert_exporter": "python",
   "pygments_lexer": "ipython3",
   "version": "3.12.7"
  }
 },
 "nbformat": 4,
 "nbformat_minor": 5
}
